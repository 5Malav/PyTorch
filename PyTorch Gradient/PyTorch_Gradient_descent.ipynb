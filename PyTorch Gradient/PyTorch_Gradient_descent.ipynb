{
  "nbformat": 4,
  "nbformat_minor": 0,
  "metadata": {
    "colab": {
      "provenance": []
    },
    "kernelspec": {
      "name": "python3",
      "display_name": "Python 3"
    },
    "language_info": {
      "name": "python"
    }
  },
  "cells": [
    {
      "cell_type": "markdown",
      "source": [
        "#PyTorch Gradient descent\n",
        "\n",
        "using Auto Gradient function"
      ],
      "metadata": {
        "id": "sFItdznTTwdD"
      }
    },
    {
      "cell_type": "code",
      "execution_count": 14,
      "metadata": {
        "id": "FHTpeJNtIslY"
      },
      "outputs": [],
      "source": [
        "import torch"
      ]
    },
    {
      "cell_type": "code",
      "source": [
        "\"\"\"\n",
        "Function:- 2x^4 + x^3 + 3x^2 + 5x + 1\n",
        "\n",
        "Derivative:- 8x^3 + 3x^2 + 6x + 5\n",
        "\n",
        "calculate gradient of Function\n",
        "\n",
        "\"\"\""
      ],
      "metadata": {
        "colab": {
          "base_uri": "https://localhost:8080/",
          "height": 36
        },
        "id": "xgnf_CqkItMy",
        "outputId": "e57f9fbf-bd30-4966-ef04-a69ba8a7f7aa"
      },
      "execution_count": 15,
      "outputs": [
        {
          "output_type": "execute_result",
          "data": {
            "text/plain": [
              "'\\nFunction:- 2x^4 + x^3 + 3x^2 + 5x + 1\\n\\nDerivative:- 8x^3 + 3x^2 + 6x + 5\\n\\ncalculate gradient of Function\\n\\n'"
            ],
            "application/vnd.google.colaboratory.intrinsic+json": {
              "type": "string"
            }
          },
          "metadata": {},
          "execution_count": 15
        }
      ]
    },
    {
      "cell_type": "code",
      "source": [
        "x= torch.tensor(2.0,requires_grad=True)\n",
        "x\n",
        "\n",
        "# Thise Sets up computational tracking on the tensor.\n",
        "# So now PyTorch can keep an eye on this tensor throughout\n",
        "# the computational graph.\n",
        "# It's notm just floating around as a separate variable.\n"
      ],
      "metadata": {
        "colab": {
          "base_uri": "https://localhost:8080/"
        },
        "id": "wExfunv1ItPd",
        "outputId": "86d47581-f3fd-4e6d-a4a6-010ddfa36b1b"
      },
      "execution_count": 16,
      "outputs": [
        {
          "output_type": "execute_result",
          "data": {
            "text/plain": [
              "tensor(2., requires_grad=True)"
            ]
          },
          "metadata": {},
          "execution_count": 16
        }
      ]
    },
    {
      "cell_type": "code",
      "source": [
        "# Define function\n",
        "\n",
        "y= 2*x**4 + x**3 + 3*x**2 + 5*x + 1\n",
        "y\n",
        "\n",
        "# This is the value of y when x=2"
      ],
      "metadata": {
        "colab": {
          "base_uri": "https://localhost:8080/"
        },
        "id": "tdxAcmpqItSL",
        "outputId": "7882a954-94f7-41f7-ccb4-b8688a0393e0"
      },
      "execution_count": 17,
      "outputs": [
        {
          "output_type": "execute_result",
          "data": {
            "text/plain": [
              "tensor(63., grad_fn=<AddBackward0>)"
            ]
          },
          "metadata": {},
          "execution_count": 17
        }
      ]
    },
    {
      "cell_type": "code",
      "source": [
        "type(y)"
      ],
      "metadata": {
        "colab": {
          "base_uri": "https://localhost:8080/"
        },
        "id": "LyxLxpJRItUu",
        "outputId": "8e177f40-a39f-49b6-b1e0-ca6ecdae10b2"
      },
      "execution_count": 18,
      "outputs": [
        {
          "output_type": "execute_result",
          "data": {
            "text/plain": [
              "torch.Tensor"
            ]
          },
          "metadata": {},
          "execution_count": 18
        }
      ]
    },
    {
      "cell_type": "code",
      "source": [
        "y.backward()\n",
        "\n",
        "# This is going to perform the backpropagation\n"
      ],
      "metadata": {
        "id": "QAopRcMjItXA"
      },
      "execution_count": 23,
      "outputs": []
    },
    {
      "cell_type": "code",
      "source": [
        "x.grad\n",
        "\n",
        "# torch(93.)\n",
        "# 93 is the representation of if you were to plug in\n",
        "# the X value into the 1st derivative of Y\n",
        "# with respect to X.\n",
        "# So 93 is gonna be the slope of the polynomial\n",
        "# at that point where X=2.\n",
        "\n",
        "# This is the slope of the polynomial at the point (2,63)\n",
        "\n"
      ],
      "metadata": {
        "colab": {
          "base_uri": "https://localhost:8080/"
        },
        "id": "QatFTN4CItZj",
        "outputId": "1f9fa758-cccb-418d-b66b-67c9d7d39ddb"
      },
      "execution_count": 26,
      "outputs": [
        {
          "output_type": "execute_result",
          "data": {
            "text/plain": [
              "tensor(93.)"
            ]
          },
          "metadata": {},
          "execution_count": 26
        }
      ]
    },
    {
      "cell_type": "markdown",
      "source": [
        "#Back -  Propagation on multiple steps\n",
        "\n",
        " Now let's do something more complex, involving layers y and z between x and out out layer out"
      ],
      "metadata": {
        "id": "KS9jGw-MYxRZ"
      }
    },
    {
      "cell_type": "code",
      "source": [
        "x= torch.tensor([[1.,2.,3.],[3.,2.,1.]],requires_grad=True)\n",
        "x"
      ],
      "metadata": {
        "colab": {
          "base_uri": "https://localhost:8080/"
        },
        "id": "RfqoJU1XItcJ",
        "outputId": "677477ef-dd14-4d54-aeda-85737bdd35ea"
      },
      "execution_count": 27,
      "outputs": [
        {
          "output_type": "execute_result",
          "data": {
            "text/plain": [
              "tensor([[1., 2., 3.],\n",
              "        [3., 2., 1.]], requires_grad=True)"
            ]
          },
          "metadata": {},
          "execution_count": 27
        }
      ]
    },
    {
      "cell_type": "code",
      "source": [
        "# Create 1st layer\n",
        "\n",
        "y = 3*x +2\n",
        "y"
      ],
      "metadata": {
        "colab": {
          "base_uri": "https://localhost:8080/"
        },
        "id": "ZPH62QzZIte7",
        "outputId": "5090e542-3c10-4d73-fd00-cc0af479ed33"
      },
      "execution_count": 28,
      "outputs": [
        {
          "output_type": "execute_result",
          "data": {
            "text/plain": [
              "tensor([[ 5.,  8., 11.],\n",
              "        [11.,  8.,  5.]], grad_fn=<AddBackward0>)"
            ]
          },
          "metadata": {},
          "execution_count": 28
        }
      ]
    },
    {
      "cell_type": "code",
      "source": [
        "z = 2*y**2\n",
        "z"
      ],
      "metadata": {
        "colab": {
          "base_uri": "https://localhost:8080/"
        },
        "id": "AMUCBSt3Ithr",
        "outputId": "ffbd34da-ff6d-47ec-99bd-e5257bf83cb5"
      },
      "execution_count": 29,
      "outputs": [
        {
          "output_type": "execute_result",
          "data": {
            "text/plain": [
              "tensor([[ 50., 128., 242.],\n",
              "        [242., 128.,  50.]], grad_fn=<MulBackward0>)"
            ]
          },
          "metadata": {},
          "execution_count": 29
        }
      ]
    },
    {
      "cell_type": "code",
      "source": [
        "out =  z.mean()\n",
        "out"
      ],
      "metadata": {
        "colab": {
          "base_uri": "https://localhost:8080/"
        },
        "id": "-Pr5D6A8Itkc",
        "outputId": "8e0ef69a-56ac-4cdc-eb63-7b05ea46dd68"
      },
      "execution_count": 31,
      "outputs": [
        {
          "output_type": "execute_result",
          "data": {
            "text/plain": [
              "tensor(140., grad_fn=<MeanBackward0>)"
            ]
          },
          "metadata": {},
          "execution_count": 31
        }
      ]
    },
    {
      "cell_type": "code",
      "source": [
        "# Perform back propagation to find the gradient of X\n",
        "# with respect to this output layer\n",
        "\n",
        "out.backward()"
      ],
      "metadata": {
        "id": "B6GS02QrItnB"
      },
      "execution_count": 33,
      "outputs": []
    },
    {
      "cell_type": "code",
      "source": [
        "x.grad"
      ],
      "metadata": {
        "colab": {
          "base_uri": "https://localhost:8080/"
        },
        "id": "xYPrORMvItpl",
        "outputId": "0a0c9af6-82ce-46bb-d67e-8eeaed4719e2"
      },
      "execution_count": 34,
      "outputs": [
        {
          "output_type": "execute_result",
          "data": {
            "text/plain": [
              "tensor([[10., 16., 22.],\n",
              "        [22., 16., 10.]])"
            ]
          },
          "metadata": {},
          "execution_count": 34
        }
      ]
    }
  ]
}